{
 "cells": [
  {
   "cell_type": "code",
   "execution_count": 3,
   "id": "5981d4c2-dab7-4175-9c2d-1e862939c1d2",
   "metadata": {},
   "outputs": [
    {
     "data": {
      "text/plain": [
       "('BMW', 300, 200)"
      ]
     },
     "execution_count": 3,
     "metadata": {},
     "output_type": "execute_result"
    }
   ],
   "source": [
    "'''Q1, Create a vehicle class with an init method having instance variables as name_of_vehicle, max_speed\n",
    "and average_of_vehicle.'''\n",
    "#Ans\n",
    "\n",
    "class vehicle:\n",
    "    def __init__(self,name_of_vahicle,max_speed,average_of_vehicle):\n",
    "        self.name_of_vahicle=name_of_vahicle\n",
    "        self.max_speed=max_speed\n",
    "        self.average_of_vehicle=average_of_vehicle\n",
    "        \n",
    "    def return_vehicle_detials(self):\n",
    "        return self.name_of_vahicle,self.max_speed,self.average_of_vehicle\n",
    "    \n",
    "car=vehicle(\"BMW\",300,200)\n",
    "car.return_vehicle_detials()"
   ]
  },
  {
   "cell_type": "code",
   "execution_count": 11,
   "id": "a55ed67d-04b6-43d6-8919-adec19a1e457",
   "metadata": {},
   "outputs": [
    {
     "name": "stdout",
     "output_type": "stream",
     "text": [
      "BMW has a seating capacity of 6 passengers\n"
     ]
    }
   ],
   "source": [
    "'''Q2. Create a child class car from the vehicle class created in Que 1, which will inherit the vehicle class.\n",
    "Create a method named seating_capacity which takes capacity as an argument and returns the name of\n",
    "the vehicle and its seating capacity.'''\n",
    "#Ans-\n",
    "class vehicle:\n",
    "    def __init__(self,name_of_vahicle,max_speed,average_of_vehicle):\n",
    "        self.name_of_vahicle=name_of_vahicle\n",
    "        self.max_speed=max_speed\n",
    "        self.average_of_vehicle=average_of_vehicle\n",
    "        \n",
    "class Car(vehicle):\n",
    "    def __init__(self, name_of_vehicle, max_speed, average_of_vehicle):\n",
    "        super().__init__(name_of_vehicle, max_speed, average_of_vehicle) \n",
    "    \n",
    "    def seating_capicity(self,capacity):\n",
    "        return print(f\"{self.name_of_vahicle} has a seating capacity of {capacity} passengers\")\n",
    "        \n",
    "child_car_obj=Car(\"BMW\",200,20)\n",
    "child_car_obj.seating_capicity(6)\n",
    "\n",
    "\n"
   ]
  },
  {
   "cell_type": "markdown",
   "id": "4136b8a8-5de0-4058-8f40-4fe3df583471",
   "metadata": {},
   "source": [
    "'''Q3. What is multiple inheritance? Write a python code to demonstrate multiple inheritance.'''\n",
    "\n",
    "Ans- \n",
    "'''Multiple inheritance is a feature in some object-oriented programming languages, including Python, that allows a class to inherit properties and methods from more than one parent class. In Python, a child class can have multiple parent classes, and it can acquire characteristics from each of them.'''\n",
    "\n",
    "\n",
    "\n"
   ]
  },
  {
   "cell_type": "code",
   "execution_count": 13,
   "id": "a85bf6dd-0ada-415a-bb19-1cb63385128b",
   "metadata": {},
   "outputs": [
    {
     "name": "stdout",
     "output_type": "stream",
     "text": [
      "name of student1 is Rohit\n",
      "name of student2 is Rohan\n",
      "name of student3 is Rahul\n"
     ]
    }
   ],
   "source": [
    "'''Q3-Example of multiple inheritance'''\n",
    "class student1:\n",
    "    def student1_name(self):\n",
    "        print(\"name of student1 is Rohit\")\n",
    "        \n",
    "class student2:\n",
    "    def student2_name(self):\n",
    "        print(\"name of student2 is Rohan\")\n",
    "        \n",
    "class student3(student1,student2):\n",
    "    def student3_name(self):\n",
    "        print(\"name of student3 is Rahul\")\n",
    "\n",
    "student_obj=student3()\n",
    "student_obj.student1_name()\n",
    "student_obj.student2_name()\n",
    "student_obj.student3_name()\n",
    "\n",
    "''' we can see by the object of class 3(student3) we can access the value of class 1 and class2\n",
    "this is how multiple inheritance works'''"
   ]
  },
  {
   "cell_type": "code",
   "execution_count": null,
   "id": "6e7e8ca7-964e-435b-9b3f-9cf6e3dc077c",
   "metadata": {},
   "outputs": [],
   "source": [
    "'''Q4. What are getter and setter in python? Create a class and create a getter and a setter method in this\n",
    "class.'''\n",
    "#Ans-\n",
    "Getter: A method that allows people to access an attribute in a given class\n",
    "Setter: A method that allows people to set or mutate the value of an attribute in a class"
   ]
  },
  {
   "cell_type": "code",
   "execution_count": 27,
   "id": "a88574e9-9014-4883-b32b-18e4b37e62e8",
   "metadata": {},
   "outputs": [
    {
     "name": "stdout",
     "output_type": "stream",
     "text": [
      "Initial radius: 5\n",
      "Updated radius: 8\n",
      "Radius cannot be negative.\n"
     ]
    }
   ],
   "source": [
    "'''Example in getter and setter method'''\n",
    "\n",
    "class Circle:\n",
    "    def __init__(self, radius):\n",
    "        self._radius = radius\n",
    "\n",
    "    # Getter method for radius\n",
    "    @property\n",
    "    def radius(self):\n",
    "        return self._radius\n",
    "\n",
    "    # Setter method for radius\n",
    "    @radius.setter\n",
    "    def radius(self, value):\n",
    "        if value < 0:\n",
    "            raise ValueError(\"Radius cannot be negative.\")\n",
    "        self._radius = value\n",
    "\n",
    "#circle object\n",
    "circle_obj = Circle(5)\n",
    "print(\"Initial radius:\", circle_obj.radius)  \n",
    "\n",
    "circle_obj.radius = 8  # accessing the value of radius\n",
    "\n",
    "\n",
    "print(\"Updated radius:\", circle_obj.radius) \n",
    "\n",
    "# Trying to set an invalid value will raise an exception\n",
    "try:\n",
    "    circle_obj.radius = -3\n",
    "except ValueError as e:\n",
    "    print(e)  # Output: Radius cannot be negative.\n",
    "\n",
    "        "
   ]
  },
  {
   "cell_type": "markdown",
   "id": "99745f4e-8dca-4e52-a1af-49194a99b2f0",
   "metadata": {},
   "source": [
    "'''Q5.What is method overriding in python? Write a python code to demonstrate method overriding.'''\n",
    "\n",
    "#Ans-\n",
    "'''Method overriding in Python occurs when a subclass provides a specific implementation  for a  method  that is already defined in its superclass.This allows the subclass to have a method with the same name as the superclass, but with  a different implementation. When the method is called on an object  of the subclass, the overridden method in  the subclass is   executed instead of the method in the superclass.'''"
   ]
  },
  {
   "cell_type": "code",
   "execution_count": null,
   "id": "16e3ba2d-ae45-45f5-b048-cdf8cf93d81d",
   "metadata": {},
   "outputs": [],
   "source": [
    "''' Exmple for Question5'''\n",
    "\n",
    "class Animal:\n",
    "    def make_sound(self):\n",
    "        print(\"Generic animal sound\")\n",
    "\n",
    "class Dog(Animal):\n",
    "    def make_sound(self):\n",
    "        print(\"Woof!\")\n",
    "\n",
    "class Cat(Animal):\n",
    "    def make_sound(self):\n",
    "        print(\"Meow!\")\n",
    "\n",
    "# Creating objects of the subclasses\n",
    "dog = Dog()\n",
    "cat = Cat()\n",
    "\n",
    "# Calling the overridden method on the objects\n",
    "dog.make_sound()  # Output: Woof!\n",
    "cat.make_sound()  # Output: Meow!\n"
   ]
  }
 ],
 "metadata": {
  "kernelspec": {
   "display_name": "Python 3 (ipykernel)",
   "language": "python",
   "name": "python3"
  },
  "language_info": {
   "codemirror_mode": {
    "name": "ipython",
    "version": 3
   },
   "file_extension": ".py",
   "mimetype": "text/x-python",
   "name": "python",
   "nbconvert_exporter": "python",
   "pygments_lexer": "ipython3",
   "version": "3.10.8"
  }
 },
 "nbformat": 4,
 "nbformat_minor": 5
}
