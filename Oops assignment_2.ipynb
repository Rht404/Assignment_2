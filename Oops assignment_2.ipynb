{
 "cells": [
  {
   "cell_type": "markdown",
   "id": "451ce1e3-e492-487b-9a1a-5fa2ddbc2e18",
   "metadata": {},
   "source": [
    "Q1. Explain Class and Object with respect to Object-Oriented Programming.Give a suitable example.\n",
    "#Ans-\n",
    "Class:\n",
    "A class is a blueprint or a template for creating objects. It defines a set of attributes (also known as properties or data members) and methods (also known as functions or behaviors) that the objects of that class will possess. Think of a class as a blueprint for a specific type of entity in the real world or an abstract concept in the program. It encapsulates the data and behaviors related to that entity.\n",
    "In the context of OOP, a class provides a way to create objects with specific characteristics and functionalities without having to recreate them from scratch every time. It acts as a prototype from which multiple objects can be instantiated."
   ]
  },
  {
   "cell_type": "code",
   "execution_count": null,
   "id": "377244e8-5df4-4c89-b6eb-442e2c57dbb9",
   "metadata": {},
   "outputs": [],
   "source": [
    "'''Example of class(Q1)'''\n",
    "\n",
    "class name:\n",
    "    def __init__(self,name_of_student, roll_no, email_id):\n",
    "        self.name_of_student=name_of_student\n",
    "        self.roll_no=roll_no\n",
    "        self.email_id=email_id\n",
    "    def name_of_school(self):\n",
    "        print(\"name of school is Adarsh Public School\")\n",
    "        \n",
    "#here 'name' is class which concludes 'name_of_student','roll_na','email_id' as attributes"
   ]
  },
  {
   "cell_type": "markdown",
   "id": "53447e26-99d0-4159-a06a-ee828b63e3f5",
   "metadata": {},
   "source": [
    "Object:\n",
    "An object is an instance of a class, created based on the class's blueprint. It is a concrete representation of the class, with its own unique data and state. When we create an object, we are essentially creating a specific entity that possesses the attributes and behaviors defined in the class."
   ]
  },
  {
   "cell_type": "code",
   "execution_count": null,
   "id": "de93d9a7-2f87-4098-8312-4728dec8264d",
   "metadata": {},
   "outputs": [],
   "source": []
  },
  {
   "cell_type": "code",
   "execution_count": null,
   "id": "271f0cdd-cfda-4078-ab7f-5aa1c72c9fa4",
   "metadata": {},
   "outputs": [],
   "source": [
    "'''Example of class object for Q1'''\n",
    "class name:\n",
    "    def __init__(self,name_of_student, roll_no, email_id):\n",
    "        self.name_of_student=name_of_student\n",
    "        self.roll_no=roll_no\n",
    "        self.email_id=email_id\n",
    "    def name_of_school(self):\n",
    "        print(\"name of school is Adarsh Public School\")\n",
    "        \n",
    "name_obj=name(\"rohit\",112,\"rohit@gmail.com\")\n",
    "name2_obj=name(\"rohan\",113,\"rohan@gmail.com\")\n",
    "\n",
    "#here two (name_obj and name2_obj) are class(name) objects . Each objects has its own value for attributes of class\n",
    "\n",
    "\n"
   ]
  },
  {
   "cell_type": "markdown",
   "id": "0057c3ec-968b-4ba3-b9cf-02ebcae211b9",
   "metadata": {},
   "source": [
    "Q2. Name the four pillars of OOPs.\n",
    "Ans-\n",
    "The four pillars of  OOPs (object-oriented programming) are data abstraction, encapsulation, inheritance, and polymorphism. \n",
    "\n",
    "1.Data abstraction- is the process of hiding unnecessary details of an object’s internal structure. By abstracting an object’s data, its structure and behavior can be kept separate and more easily understood.\n",
    "\n",
    "2.Encapsulation- is the process of wrapping data and related functions into a single unit (object). Encapsulation limits access to object data and methods, preventing their misuse and ensuring their proper functioning.\n",
    "\n",
    "3.Inheritance- is the ability to create a new class (child class) from an existing one (parent class). The child class typically inherits the attributes (members and methods) of the parent class, although it can also redefine them. \n",
    "\n",
    "4.Polymorphism- is the ability of an object to take on multiple forms. This allows objects of different classes to be used interchangeably, as long as they implement a certain interface (have methods of the same name)."
   ]
  },
  {
   "cell_type": "markdown",
   "id": "6aed154a-5396-406c-9ef3-825b08aeefc4",
   "metadata": {},
   "source": [
    "Q3. Explain why the __init__() function is used. Give a suitable example.\n",
    "Ans-The __init__() function, also known as the constructor, is a special method in Python classes. It is automatically called when an object of the class is created. The primary purpose of the __init__() function is to initialize the object's attributes with specific values or perform any setup that needs to be done before the object is ready for use.\n"
   ]
  },
  {
   "cell_type": "code",
   "execution_count": 8,
   "id": "77203a81-309e-44b9-af64-b7b957c68b41",
   "metadata": {},
   "outputs": [
    {
     "data": {
      "text/plain": [
       "3"
      ]
     },
     "execution_count": 8,
     "metadata": {},
     "output_type": "execute_result"
    }
   ],
   "source": [
    "'''Use of __init__ function '''\n",
    "class college:\n",
    "    def __init__(self,name_of_college,ranking_of_college,location_of_college):\n",
    "        self.name_of_college=name_of_college\n",
    "        self.ranking_of_college=ranking_of_college\n",
    "        self.location_of_college=location_of_college\n",
    "    \n",
    "    def return_details(self):\n",
    "        return self.name_of_college,self.ranking_of_college,self.location_of_college\n",
    "    \n",
    "\n",
    "class_obj=college(\"BHU\",3,\"Varanasi\")\n",
    "\n",
    "class_obj.ranking_of_college\n"
   ]
  },
  {
   "cell_type": "code",
   "execution_count": 7,
   "id": "92d886e2-3b6d-4e30-b75f-968f4c599f21",
   "metadata": {},
   "outputs": [
    {
     "data": {
      "text/plain": [
       "'BHU'"
      ]
     },
     "execution_count": 7,
     "metadata": {},
     "output_type": "execute_result"
    }
   ],
   "source": [
    "class_obj.name_of_college"
   ]
  },
  {
   "cell_type": "code",
   "execution_count": 5,
   "id": "36e0ee93-b92f-4328-88f9-25dd1e2a1b7c",
   "metadata": {},
   "outputs": [
    {
     "data": {
      "text/plain": [
       "'Varanasi'"
      ]
     },
     "execution_count": 5,
     "metadata": {},
     "output_type": "execute_result"
    }
   ],
   "source": [
    "class_obj.location_of_college"
   ]
  },
  {
   "cell_type": "markdown",
   "id": "a192b9c8-b8aa-4f90-b1c3-0ee517867830",
   "metadata": {},
   "source": [
    "Q4. Why self is used in OOPs?\n",
    "In Object-Oriented Programming (OOP) in Python, the self keyword is used as a reference to the instance of the class. It is a convention used to represent the object that is being operated upon within the methods of a class. When we define a method in a class, we need to include self as the first parameter in the method definition.\n",
    "\n",
    "The purpose of self is to access and modify the attributes and methods of the object within its own scope. It allows us to differentiate between the instance variables (attributes) of the object and local variables within the method."
   ]
  },
  {
   "cell_type": "markdown",
   "id": "7d3d2159-cb1c-4a47-805b-50443daae447",
   "metadata": {},
   "source": [
    "Q5. What is inheritance? Give an example for each type of inheritance.\n",
    "Inheritance is a fundamental concept in Object-Oriented Programming (OOP) that allows a new class (called the derived class or subclass) to inherit attributes and behaviors from an existing class (called the base class or superclass). In other words, the subclass can reuse the properties and methods of the superclass, and it can also add its own unique attributes and behaviors or override existing ones if needed. Inheritance promotes code reuse, modularity, and the creation of a hierarchical relationship among classes.\n",
    "\n",
    "There are several types of inheritance, and each type represents a different way in which classes can inherit from one another.\n",
    "There are mainly two type of inheritance.\n",
    "1.single inheritance\n",
    "2.multiple inheritance"
   ]
  },
  {
   "cell_type": "code",
   "execution_count": 10,
   "id": "8b2b27bc-8e4d-4183-8a74-8fcac2a1be79",
   "metadata": {},
   "outputs": [
    {
     "name": "stdout",
     "output_type": "stream",
     "text": [
      "name of the college is Banarans Hindu University\n",
      "name of college is Mahatma Gandhi Vidyapith\n"
     ]
    }
   ],
   "source": [
    "'''Exmaple of 1.single inheritance'''\n",
    "class name1:\n",
    "    def name_of_college(self):\n",
    "        return print(\"name of the college is Banarans Hindu University\")\n",
    "class name2(name1):  #here we passing class(name1) \n",
    "    def name_of_college2(self):\n",
    "        return print(\"name of college is Mahatma Gandhi Vidyapith\")\n",
    "    \n",
    "class name3(name2):  #here we passing class(name2) to class3. this is single inheritance \n",
    "    pass\n",
    "\n",
    "class_obj=name3()\n",
    "class_obj.name_of_college()\n",
    "class_obj.name_of_college2()"
   ]
  },
  {
   "cell_type": "code",
   "execution_count": null,
   "id": "034f7be8-2eb9-481a-b9f2-60cb942e0e62",
   "metadata": {},
   "outputs": [],
   "source": [
    "'''Example of  2.multiple inheritance '''\n",
    "\n",
    "class name1:\n",
    "    def name_of_college(self):\n",
    "        return print(\"name of the college is Banarans Hindu University\")\n",
    "class name2:\n",
    "    def name_of_college2(self):\n",
    "        return print(\"name of college is Mahatma Gandhi Vidyapith\")\n",
    "    \n",
    "class name3(name1,name2):  #here we passing class(name1 and class2 both) to class3. this is an exmmple of m\n",
    "    pass"
   ]
  }
 ],
 "metadata": {
  "kernelspec": {
   "display_name": "Python 3 (ipykernel)",
   "language": "python",
   "name": "python3"
  },
  "language_info": {
   "codemirror_mode": {
    "name": "ipython",
    "version": 3
   },
   "file_extension": ".py",
   "mimetype": "text/x-python",
   "name": "python",
   "nbconvert_exporter": "python",
   "pygments_lexer": "ipython3",
   "version": "3.10.8"
  }
 },
 "nbformat": 4,
 "nbformat_minor": 5
}
