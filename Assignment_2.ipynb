{
 "cells": [
  {
   "cell_type": "markdown",
   "id": "54d12c18-e961-42b6-844d-6679098cde24",
   "metadata": {},
   "source": [
    "Q1. How do you comment code in Python? What are the different types of comments?\n",
    "Ans.for single line comment\n",
    "    Example- #This is comment\n",
    "    for multiline comment\n",
    "    Since Python  ignores string literals that are not assigned to a variable, we can add a multiline string (triple                     quotes) in our code, and place our comment inside it\n",
    "    Example- \"\"\"This is a comment\n",
    "    written in\n",
    "    more than just one line\"\"\""
   ]
  },
  {
   "cell_type": "markdown",
   "id": "21b68d0f-8cf8-4abb-b01d-f5462cce3bf9",
   "metadata": {},
   "source": [
    "Q2. What are variables in Python? How do you declare and assign values to variables?\n",
    "Ans.A variable is a string of characters and numbers associated with a piece of information.The assignment operator, denoted             by the “=” symbol, is the operator that is used to assign values to variables in Python. \n",
    "    say variable 'marks' is assigned value 80 \n",
    "    marks = 80"
   ]
  },
  {
   "cell_type": "code",
   "execution_count": null,
   "id": "2d7b689e-d38e-4b39-a409-ab6dcab1c147",
   "metadata": {},
   "outputs": [],
   "source": [
    "#Q3. How do you convert one data type to another in Python?\n",
    "#Ans. \n",
    "'''Sr.No.\tFunction & Description\n",
    "    1\t    int(x [,base])\n",
    "            Converts x to an integer. base specifies the base if x is a string.\n",
    "    \t    \n",
    "    2\t    float(x)\n",
    "            Converts x to a floating-point number.\n",
    "            \n",
    "    3   \tcomplex(real [,imag])\n",
    "            Creates a complex number.\n",
    "            \n",
    "    4\t    str(x)\n",
    "            Converts object x to a string representation.\n",
    "    \n",
    "    5\t    tuple(s)\n",
    "            Converts s to a tuple.\n",
    "            \n",
    "    6\t    list(s)\n",
    "            Converts s to a list.\n",
    "            \n",
    "    7\t    set(s)\n",
    "            Converts s to a set.\n",
    "            \n",
    "    8\t    dict(d)\n",
    "            Creates a dictionary. it must be a sequence of (key,value) tuples.\n",
    "    \n",
    "    9\t    chr(x)\n",
    "            Converts an integer to a character.\n",
    "    \n",
    "    10\t    ord(x)\n",
    "            Converts a single character to its integer value.\n",
    "    \n",
    "    11\t    hex(x)\n",
    "            Converts an integer to a hexadecimal string.\n",
    "            \n",
    "    12\t    oct(x)\n",
    "            Converts an integer to an octal string.'''"
   ]
  },
  {
   "cell_type": "code",
   "execution_count": 17,
   "id": "52d560cc-fe5b-4a58-baaf-d2a225bb4913",
   "metadata": {},
   "outputs": [
    {
     "name": "stdout",
     "output_type": "stream",
     "text": [
      "<class 'int'>\n",
      "<class 'float'>\n",
      "<class 'complex'>\n",
      "<class 'str'>\n",
      "<class 'tuple'>\n",
      "<class 'list'>\n",
      "<class 'set'>\n",
      "<class 'dict'>\n",
      "<class 'str'>\n",
      "<class 'int'>\n",
      "<class 'str'>\n",
      "<class 'str'>\n"
     ]
    }
   ],
   "source": [
    "# example of Q3\n",
    "#1  \n",
    "x=3.5\n",
    "intchange=int(x)\n",
    "print(type(intchange))\n",
    "    \n",
    "#2.  \n",
    "int1=9.88\n",
    "change_float=float(int1)\n",
    "print(type(change_float))\n",
    "    \n",
    "#3.  \n",
    "int2=9\n",
    "complex_change=complex(int2)\n",
    "print(type(complex_change))\n",
    "    \n",
    "#4.  \n",
    "str1= 98\n",
    "change_str=str(str1)\n",
    "print(type(change_str))\n",
    "\n",
    "#5.  \n",
    "tuple1=[1,2,3,4]\n",
    "change_tuple=tuple(tuple1)\n",
    "print(type(change_tuple))\n",
    "    \n",
    "#6.  \n",
    "tuple2=(1,2,3,5,6)\n",
    "change_list=list(tuple2)\n",
    "print(type(change_list))\n",
    "    \n",
    "#7.  \n",
    "list3=[1,2,3,2,4,2,4]\n",
    "change_set=set(list3)\n",
    "print(type(change_set))\n",
    "    \n",
    "#8.  \n",
    "list4=(('name','Rohit'),)\n",
    "change_dict=dict(list4)\n",
    "print(type(change_dict))\n",
    "    \n",
    "#9. \n",
    "x=90\n",
    "change_char=chr(x)\n",
    "print(type(change_char))\n",
    "    \n",
    "#10. \n",
    "x1=\"r\"\n",
    "change_ordinal=ord(x1)\n",
    "print(type(change_ordinal))\n",
    "        \n",
    "#11. \n",
    "x2=78\n",
    "change_hex=hex(x2)\n",
    "print(type(change_hex))\n",
    "    \n",
    "#12. \n",
    "x4=89\n",
    "change_octal=oct(x4)\n",
    "print(type(change_octal))"
   ]
  },
  {
   "cell_type": "markdown",
   "id": "c8be5f4b-0f1b-4f2f-85c5-edd4706c41df",
   "metadata": {},
   "source": [
    "#Q4.how do you write and execute a Python script from the command line?\n",
    "    The most basic and easy way to run a Python script is by using the python command. We  open a command line and type the word         python followed by the path to our script file like this: 'python first_script.py Hello World!' Then we hit the ENTER button         from the keyboard and that's done."
   ]
  },
  {
   "cell_type": "code",
   "execution_count": 18,
   "id": "77d279b7-3b5a-4273-979c-16ea6654479d",
   "metadata": {},
   "outputs": [
    {
     "name": "stdout",
     "output_type": "stream",
     "text": [
      "[2, 3]\n"
     ]
    }
   ],
   "source": [
    "#Q5. Given a list my_list = [1, 2, 3, 4, 5], write the code to slice the list and obtain the sub-list [2, 3]\n",
    "\n",
    "my_list = [1, 2, 3, 4, 5]\n",
    "print(my_list[1:3])\n"
   ]
  },
  {
   "cell_type": "code",
   "execution_count": null,
   "id": "768d8302-1c85-4775-8df7-42cdb3ad092e",
   "metadata": {},
   "outputs": [],
   "source": [
    "#Q6. What is a complex number in mathematics, and how is it represented in Python?\n",
    "Ans- complex number is the combination of real number and imaginary number.\n",
    "     complex no in mathematics:\n",
    "     Example: 2+3i\n",
    "    \n",
    "     complex no in python:\n",
    "     Example: 5+2j"
   ]
  },
  {
   "cell_type": "code",
   "execution_count": null,
   "id": "b59dae02-91ad-4d84-aa2a-7ad74ec4fded",
   "metadata": {},
   "outputs": [],
   "source": [
    "#Q7. What is the correct way to declare a variable named age and assign the value 25 to it?\n",
    "Ans- age=25"
   ]
  },
  {
   "cell_type": "code",
   "execution_count": 19,
   "id": "1701ade8-9bef-4870-be0d-959a22a42178",
   "metadata": {},
   "outputs": [
    {
     "name": "stdout",
     "output_type": "stream",
     "text": [
      "<class 'float'>\n"
     ]
    }
   ],
   "source": [
    "'''Q8. Declare a variable named price and assign the value 9.99 to it. What data type does this variable \n",
    "belong to?'''\n",
    "price=9.99\n",
    "#Ans-float \n",
    "print(type(price))\n"
   ]
  },
  {
   "cell_type": "code",
   "execution_count": 21,
   "id": "e973062e-f2c8-468d-b9dd-7cf320a4badd",
   "metadata": {},
   "outputs": [
    {
     "name": "stdout",
     "output_type": "stream",
     "text": [
      "Rohit kumar\n"
     ]
    }
   ],
   "source": [
    "'''Q9. Create a variable named name and assign your full name to it as a string. How would you print the \n",
    "value of this variable?'''\n",
    "name= \"Rohit kumar\"\n",
    "print(name)"
   ]
  },
  {
   "cell_type": "code",
   "execution_count": 22,
   "id": "dd5c03b5-d0b0-468c-96b1-851ae5a73fa1",
   "metadata": {},
   "outputs": [
    {
     "name": "stdout",
     "output_type": "stream",
     "text": [
      "World\n"
     ]
    }
   ],
   "source": [
    "#Q10. Given the string \"Hello, World!\", extract the substring \"World\".\n",
    "str1=\"Hello, World\"\n",
    "print(str1[7: ])\n",
    "      "
   ]
  },
  {
   "cell_type": "code",
   "execution_count": null,
   "id": "47f6fde0-78aa-422b-84dc-e7ce13d005c0",
   "metadata": {},
   "outputs": [],
   "source": [
    "'''Q11. Create a variable named \"is_student\" and assign it a boolean value indicating whether you are \n",
    "currently a student or not.'''\n",
    "is_student=True"
   ]
  }
 ],
 "metadata": {
  "kernelspec": {
   "display_name": "Python 3 (ipykernel)",
   "language": "python",
   "name": "python3"
  },
  "language_info": {
   "codemirror_mode": {
    "name": "ipython",
    "version": 3
   },
   "file_extension": ".py",
   "mimetype": "text/x-python",
   "name": "python",
   "nbconvert_exporter": "python",
   "pygments_lexer": "ipython3",
   "version": "3.10.8"
  }
 },
 "nbformat": 4,
 "nbformat_minor": 5
}
