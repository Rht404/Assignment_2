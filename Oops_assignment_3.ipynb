{
 "cells": [
  {
   "cell_type": "markdown",
   "id": "1be0913d-5ba9-4d34-a6ed-4cf1568332ef",
   "metadata": {},
   "source": [
    "Q1. What is Abstraction in OOps? Explain with an example.\n",
    "Ans-Abstraction in Object-Oriented Programming (OOP) is a fund\n",
    "amental concept that allows us to represent complex real-world entities as simplified models in code. It involves capturing only the essential characteristics and behavior of an object while hiding the unnecessary details. In other words, abstraction helps us focus on what an object does rather than how it does it.\n",
    "    abstraction allows us to create classes or interfaces that define the structure and behavior of objects, without revealing their implementation details. These classes serve as templates that can be used to create objects in the code."
   ]
  },
  {
   "cell_type": "code",
   "execution_count": 9,
   "id": "144c0d3a-c29b-448e-8b54-56722fdac3d4",
   "metadata": {},
   "outputs": [
    {
     "name": "stdout",
     "output_type": "stream",
     "text": [
      "area of rectange is 12'\n",
      "'perimeter of ractange is 14\n"
     ]
    }
   ],
   "source": [
    "''' Example of Q1'''\n",
    "import abc               #here importing the module 'abc'\n",
    "class shape:\n",
    "    @abc.abstractmethod  #here abstracting the function area\n",
    "    def area(self):\n",
    "        pass\n",
    "    \n",
    "    @abc.abstractmethod\n",
    "    def perimeter(self):\n",
    "        pass\n",
    "  \n",
    "#here another class defined \n",
    "\n",
    "class rectangle(shape):\n",
    "    def __init__(self,length ,bridth):  \n",
    "        self.length=length\n",
    "        self.bridth=bridth\n",
    "    def area(self):       #returning the area of rectangle\n",
    "        return self.length*self.bridth\n",
    "    def perimeter(self):  #returning the perimeter of rectangle\n",
    "        return 2*(self.length+self.bridth)\n",
    "    \n",
    "cls_obj=rectangle(3,4)    #class obj for class(rectangle)\n",
    "cls_obj.area()            #accessing the area of ractangle\n",
    "cls_obj.perimeter()       #accessing the perimeter of ractangle\n",
    "print(f\"area of rectange is {cls_obj.area()}'\\n'perimeter of ractange is {cls_obj.perimeter()}\")"
   ]
  },
  {
   "cell_type": "markdown",
   "id": "b5edd1dd-2951-44b4-948c-15aea28fe7b7",
   "metadata": {},
   "source": [
    "Q2. Differentiate between Abstraction and Encapsulation. Explain with an example.\n",
    "\n",
    "Ans-Abstraction:\n",
    "Abstraction is the process of simplifying complex real-world entities by capturing only their essential characteristics and behavior while hiding unnecessary details. It focuses on \"what\" an object does rather than \"how\" it does it. Abstraction is achieved using abstract classes, interfaces, or even base classes that provide a common template for creating objects with specific behaviors. The main goal of abstraction is to create a clear and simplified model of the system, making it easier for developers to work with complex codebases.\n",
    "\n",
    "Encapsulation:\n",
    "Encapsulation is the concept of bundling data (attributes or properties) and methods (functions or behaviors) that operate on the data within a single unit (a class). It is about hiding the internal implementation details of an object and providing a public interface to interact with it. The idea is to protect the object's data from direct access and modification by external code, ensuring that changes to the object's internal state can only be made through well-defined methods. Encapsulation helps in promoting data integrity and making the code more maintainable."
   ]
  },
  {
   "cell_type": "code",
   "execution_count": 32,
   "id": "5c2a403c-9287-4b25-aa02-6c6d7abd5529",
   "metadata": {},
   "outputs": [
    {
     "name": "stdout",
     "output_type": "stream",
     "text": [
      "no of students in the statistics department is 120\n"
     ]
    }
   ],
   "source": [
    "'''Example of Q2'''\n",
    "import abc\n",
    "class universities:\n",
    "    \n",
    "    @abc.abstractmethod\n",
    "    def department(self):\n",
    "        pass\n",
    "    \n",
    "    @abc.abstractmethod\n",
    "    def no_of_student(self):\n",
    "        pass\n",
    "    \n",
    "    @abc.abstractmethod\n",
    "    def no_of_class(self):\n",
    "        pass\n",
    "\n",
    "class BHU(universities):\n",
    "    def __init__(self,department1,no_of_student1,no_of_class1):\n",
    "        self.department1=department1\n",
    "        self.no_of_student1=no_of_student1\n",
    "        self.no_of_class1=no_of_class1\n",
    "    \n",
    "    def department(self):\n",
    "        return self.department1 + \" department\"\n",
    "    def no_of_student(self):\n",
    "        return print(\"no of students in the \"+ self.department1+ \" department\"+\" is\", self.no_of_student1)\n",
    "    \n",
    "cls_obj=BHU(\"statistics\",120,5)\n",
    "cls_obj.no_of_student()\n"
   ]
  },
  {
   "cell_type": "code",
   "execution_count": 38,
   "id": "fab3b3dc-22d2-4bb6-ae44-7990f208a3d3",
   "metadata": {},
   "outputs": [
    {
     "data": {
      "text/plain": [
       "4467"
      ]
     },
     "execution_count": 38,
     "metadata": {},
     "output_type": "execute_result"
    }
   ],
   "source": [
    "'''Example for Q2'''\n",
    "class  Password:    #password class is defined here \n",
    "    def __init__(self,password):\n",
    "        self.__password=password    \n",
    "        \n",
    "    def access_password(self):\n",
    "        return self.__password\n",
    "    \n",
    "    def change_password(self,password):\n",
    "         self.__password =password\n",
    "    \n",
    "        \n",
    "password_obj=Password(7644)\n",
    "\n",
    "password_obj.change_password(4467)\n",
    "password_obj.access_password()\n",
    "    \n",
    "       "
   ]
  },
  {
   "cell_type": "markdown",
   "id": "e185839a-02ed-40a5-8cee-3a647bc5a8eb",
   "metadata": {},
   "source": [
    "Q3. What is abc module in python? Why is it used?\n",
    "\n",
    "Ans-The 'abc' module stands for \"Abstract Base Classes.\" It provides tools to create abstract base classes, which are classes that cannot be instantiated directly but are meant to serve as blueprints for other classes. Abstract base classes define a common interface that derived classes must adhere to, ensuring that certain methods or attributes are implemented in the derived classes.\n",
    "The main purpose of the abc module is to facilitate the creation of interfaces or contracts in Python, enforcing a certain structure or set of methods that must be implemented by subclasses"
   ]
  },
  {
   "cell_type": "markdown",
   "id": "74d5e331-78f1-4b62-b8bc-0fa1ab14cc44",
   "metadata": {},
   "source": [
    "Q4. How can we achieve data abstraction?\n",
    "Ans-\n",
    "Data abstraction in programming refers to the process of exposing only relevant information while hiding the implementation details. In Python, we can achieve data abstraction using classes and access control mechanisms. The key idea is to encapsulate the data within the class and provide methods (getters and setters) to interact with that data, without directly exposing the underlying attributes\n",
    "\n",
    "Here's how we can achieve data abstraction in Python:\n",
    "\n",
    "Use Private Attributes: \n",
    "By convention, Python uses a single underscore _ prefix for attributes that are intended to be private. Although Python doesn't strictly enforce access control, this naming convention signals to other developers that the attribute should not be accessed directly.\n",
    "\n",
    "Use Getters and Setters: \n",
    "Provide public methods (getters and setters) to access and modify the private attributes. These methods allow controlled access to the data and enable validation or other operations if required.\n",
    "\n",
    "Documentation:\n",
    "Provide clear documentation for the class and its methods, explaining their purpose and usage. This helps users understand how to interact with the class without needing to know its internal details"
   ]
  },
  {
   "cell_type": "code",
   "execution_count": 40,
   "id": "19c2812d-18b4-42c0-a6b0-904ef171c0f7",
   "metadata": {},
   "outputs": [
    {
     "name": "stdout",
     "output_type": "stream",
     "text": [
      "Account Number: 123456789\n",
      "Balance: 1000\n",
      "Updated Balance: 1500\n",
      "Updated Balance: 800\n"
     ]
    }
   ],
   "source": [
    "'''Example of Q4'''\n",
    "class BankAccount:\n",
    "    def __init__(self, account_number, balance):\n",
    "        self._account_number = account_number\n",
    "        self._balance = balance\n",
    "\n",
    "    def get_account_number(self):\n",
    "        return self._account_number\n",
    "\n",
    "    def get_balance(self):\n",
    "        return self._balance\n",
    "\n",
    "    def set_amount(self, amount):\n",
    "        self._balance += amount\n",
    "\n",
    "    def withdraw(self, amount):\n",
    "        if amount <= self._balance:\n",
    "            self._balance -= amount\n",
    "        else:\n",
    "            print(\"Insufficient balance.\")\n",
    "\n",
    "# Using the class\n",
    "account_obj = BankAccount(\"123456789\", 1000)\n",
    "\n",
    "# Accessing the account details using getters\n",
    "print(\"Account Number:\", account_obj.get_account_number())  \n",
    "print(\"Balance:\", account_obj.get_balance()) \n",
    "\n",
    "# Modifying the account balance using methods\n",
    "account_obj.set_amount(500)\n",
    "print(\"Updated Balance:\", account_obj.get_balance())  \n",
    "\n",
    "account_obj.withdraw(700)\n",
    "print(\"Updated Balance:\", account_obj.get_balance())\n",
    "\n",
    "\n"
   ]
  },
  {
   "cell_type": "markdown",
   "id": "43604499-757e-43ed-b72f-7d16d0d4c03b",
   "metadata": {},
   "source": [
    "Q5. Can we create an instance of an abstract class? Explain your answer.\n",
    "Ans-Yes,by implementating @abstractmethod decorator we need to create concrete classes that inherit from the abstract class and implement all the abstract methods. These concrete classes provide the necessary implementation for the abstract methods, making them suitable for instantiation."
   ]
  },
  {
   "cell_type": "code",
   "execution_count": 43,
   "id": "d3c24c5e-41d7-4bfd-8dfd-244bf4b4dc9a",
   "metadata": {},
   "outputs": [
    {
     "name": "stdout",
     "output_type": "stream",
     "text": [
      "153.86\n",
      "43.96\n"
     ]
    }
   ],
   "source": [
    "'''Example for Q5'''\n",
    "import abc\n",
    "class shape:\n",
    "    @abc.abstractmethod\n",
    "    def area(self):\n",
    "        pass\n",
    "    @abc.abstractmethod\n",
    "    def perimeter(self):\n",
    "        pass\n",
    "    \n",
    "class circle(shape):\n",
    "    def __init__(self,radius):\n",
    "        self.radius=radius\n",
    "        \n",
    "    def area(self):\n",
    "        return 3.14*self.radius**2\n",
    "    def perimeter(self):\n",
    "        return 2*3.14*self.radius\n",
    "    \n",
    "cls_obj=circle(7)\n",
    "print(\"area of the circle :\",cls_obj.area())\n",
    "print(\"perimeter of the circle\"cls_obj.perimeter())"
   ]
  },
  {
   "cell_type": "code",
   "execution_count": null,
   "id": "c5e3241c-7e9d-4d23-8018-82fbafa51919",
   "metadata": {},
   "outputs": [],
   "source": []
  }
 ],
 "metadata": {
  "kernelspec": {
   "display_name": "Python 3 (ipykernel)",
   "language": "python",
   "name": "python3"
  },
  "language_info": {
   "codemirror_mode": {
    "name": "ipython",
    "version": 3
   },
   "file_extension": ".py",
   "mimetype": "text/x-python",
   "name": "python",
   "nbconvert_exporter": "python",
   "pygments_lexer": "ipython3",
   "version": "3.10.8"
  }
 },
 "nbformat": 4,
 "nbformat_minor": 5
}
